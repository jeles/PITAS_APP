{
 "cells": [
  {
   "cell_type": "markdown",
   "metadata": {},
   "source": [
    "# Pittsburgh Intersection Threat Assessment System (PITAS)\n",
    "## an automated inspection system \n",
    "\n",
    "<br />\n",
    "\n",
    "### Introduction:\n",
    "Despite innovations in automotive safety features and traffic control systems, automotive collisions remain one of the most costly and dangerous problems in the United States. Intersections are particularly dangerous and are where over 40% of traffic collisions occur. In my project, **Pittsburgh Intersection Threat Assessment System (PITAS)**, I propose using city data on traffic collisions, intersection safety features, and intersection geometry to predict the number of collisions that will occur at all intersections of a city, determine which features contribute the most to each intersection’s safety rating, and allow city planners to interact with the model. **PITAS could be productized as a municipal decision assistance tool or a tool to help insurance companies set premiums.**\n",
    "\n",
    "<br />\n",
    "\n",
    "### Inputs:\n",
    "\n",
    "**PITAS** recieves inputs from several disparate datasets:\n",
    "\n",
    "- Road centerline shapes, road names, speed limits, one way status ([link](https://www.pasda.psu.edu/uci/DataSummary.aspx?dataset=1224))\n",
    "- Traffic Sign descriptions and locations ([link](https://data.wprdc.org/dataset/city-traffic-signs))\n",
    "- Traffic Light descriptions and locations ([link](https://data.wprdc.org/dataset/city-of-pittsburgh-signalized-intersections))\n",
    "- Detailed accident descriptions including locations ([link](https://data.wprdc.org/dataset/allegheny-county-crash-data))\n",
    "- Zoning information ([link](https://data.wprdc.org/dataset/zoning1))\n",
    "- 311 Complaint information ([link](https://data.wprdc.org/dataset/311-data))\n",
    "\n",
    "The ultimate input will combine this information as the following features:\n",
    "\n",
    "<br />\n",
    "\n",
    "### Model:\n",
    "The inputs are fed into a Random Forest Multilabel Classification Model with 3 possible Risk Levels / labels:\n",
    "\n",
    "1: 0 Accidents Per Year\n",
    "2: 0-2 Accidents Per Year\n",
    "3: >2 Accidents Per Year\n",
    "\n",
    "This values are generated for each intersection, which serves as the output of the model.\n",
    "\n",
    "<br />\n",
    "\n",
    "### Interactivity:\n",
    "\n",
    "**PITAS** is hosted at [pitas.herokuapp.com](pitas.herokuapp.com). At the site, you can toggle different features of a particular intersection to see how this could affect the Risk Level. "
   ]
  },
  {
   "cell_type": "markdown",
   "metadata": {},
   "source": []
  },
  {
   "cell_type": "markdown",
   "metadata": {},
   "source": [
    "To confine this analysis "
   ]
  },
  {
   "cell_type": "markdown",
   "metadata": {},
   "source": [
    "<br />\n",
    "\n",
    "Using this data as well as published descriptors of the interesections (totaling **303MB of data processed**), I have created a preliminary Ridge Regression model to predict the number of accidents that have occurred at each intersection in Pittsburgh from 2004-2017. In the first portion of this project, I used geospatial data of street centerlines to define all interesections in Pittsburgh. This is shown below, with each intersection also showing how many accidents have occurred there from 2004-2017:\n"
   ]
  },
  {
   "cell_type": "markdown",
   "metadata": {},
   "source": [
    "### Import Libraries and Engineering Features\n",
    "<br />\n",
    "In the next portion, I engineered features from data describing Pittsburgh intersection. The the features that were ultimately selected are listed below:"
   ]
  },
  {
   "cell_type": "code",
   "execution_count": 2,
   "metadata": {
    "scrolled": true
   },
   "outputs": [],
   "source": [
    "import os\n",
    "import numpy as np\n",
    "import pandas as pd\n",
    "from six.moves import urllib\n",
    "from math import sin, cos, asin, sqrt, degrees, radians\n",
    "import ast\n",
    "\n",
    "%matplotlib inline\n",
    "import matplotlib.pyplot as plt\n",
    "\n",
    "import sklearn\n",
    "from sklearn.pipeline import Pipeline\n",
    "from sklearn.linear_model import LinearRegression\n",
    "from sklearn.model_selection import train_test_split\n",
    "from sklearn.preprocessing import StandardScaler\n",
    "from sklearn.linear_model import RidgeCV\n",
    "from sklearn.metrics import mean_squared_error\n",
    "\n",
    "path = os.getcwd()\n",
    "newouts = pd.read_csv(os.path.dirname(path)+r'/data_checkpoints/ModelDf.csv')\n",
    "newouts.set_index('IntCode',inplace=True)"
   ]
  },
  {
   "cell_type": "code",
   "execution_count": 2,
   "metadata": {
    "scrolled": true
   },
   "outputs": [
    {
     "data": {
      "text/html": [
       "<div>\n",
       "<style scoped>\n",
       "    .dataframe tbody tr th:only-of-type {\n",
       "        vertical-align: middle;\n",
       "    }\n",
       "\n",
       "    .dataframe tbody tr th {\n",
       "        vertical-align: top;\n",
       "    }\n",
       "\n",
       "    .dataframe thead th {\n",
       "        text-align: right;\n",
       "    }\n",
       "</style>\n",
       "<table border=\"1\" class=\"dataframe\">\n",
       "  <thead>\n",
       "    <tr style=\"text-align: right;\">\n",
       "      <th></th>\n",
       "      <th>numones</th>\n",
       "      <th>meanspeed</th>\n",
       "      <th>maxdiffspeed</th>\n",
       "      <th>numroad</th>\n",
       "      <th>uniroad</th>\n",
       "      <th>StopSign</th>\n",
       "      <th>StopPerWay</th>\n",
       "      <th>TrafficLight</th>\n",
       "      <th>TrafficFlash</th>\n",
       "      <th>turnrestriction</th>\n",
       "      <th>...</th>\n",
       "      <th>Educational/Medical_Institution</th>\n",
       "      <th>Two-Unit_Residential</th>\n",
       "      <th>General_Industrial</th>\n",
       "      <th>Planned_Unit_Development</th>\n",
       "      <th>Single-Unit_Detached_Residential</th>\n",
       "      <th>General_Industrial__</th>\n",
       "      <th>Highway_Commercial</th>\n",
       "      <th>Three-Unit_Residential</th>\n",
       "      <th>Neighborhood_Office</th>\n",
       "      <th>numacc</th>\n",
       "    </tr>\n",
       "    <tr>\n",
       "      <th>IntCode</th>\n",
       "      <th></th>\n",
       "      <th></th>\n",
       "      <th></th>\n",
       "      <th></th>\n",
       "      <th></th>\n",
       "      <th></th>\n",
       "      <th></th>\n",
       "      <th></th>\n",
       "      <th></th>\n",
       "      <th></th>\n",
       "      <th></th>\n",
       "      <th></th>\n",
       "      <th></th>\n",
       "      <th></th>\n",
       "      <th></th>\n",
       "      <th></th>\n",
       "      <th></th>\n",
       "      <th></th>\n",
       "      <th></th>\n",
       "      <th></th>\n",
       "      <th></th>\n",
       "    </tr>\n",
       "  </thead>\n",
       "  <tbody>\n",
       "    <tr>\n",
       "      <th>1</th>\n",
       "      <td>0</td>\n",
       "      <td>25.000000</td>\n",
       "      <td>0.0</td>\n",
       "      <td>3.0</td>\n",
       "      <td>2.0</td>\n",
       "      <td>0</td>\n",
       "      <td>0.0</td>\n",
       "      <td>0</td>\n",
       "      <td>0.0</td>\n",
       "      <td>0</td>\n",
       "      <td>...</td>\n",
       "      <td>0</td>\n",
       "      <td>0</td>\n",
       "      <td>0</td>\n",
       "      <td>0</td>\n",
       "      <td>0</td>\n",
       "      <td>0</td>\n",
       "      <td>0</td>\n",
       "      <td>0</td>\n",
       "      <td>0</td>\n",
       "      <td>0.0</td>\n",
       "    </tr>\n",
       "    <tr>\n",
       "      <th>2</th>\n",
       "      <td>0</td>\n",
       "      <td>28.333333</td>\n",
       "      <td>10.0</td>\n",
       "      <td>6.0</td>\n",
       "      <td>2.0</td>\n",
       "      <td>0</td>\n",
       "      <td>0.0</td>\n",
       "      <td>1</td>\n",
       "      <td>0.0</td>\n",
       "      <td>5</td>\n",
       "      <td>...</td>\n",
       "      <td>0</td>\n",
       "      <td>0</td>\n",
       "      <td>0</td>\n",
       "      <td>0</td>\n",
       "      <td>0</td>\n",
       "      <td>0</td>\n",
       "      <td>0</td>\n",
       "      <td>0</td>\n",
       "      <td>0</td>\n",
       "      <td>2.4</td>\n",
       "    </tr>\n",
       "    <tr>\n",
       "      <th>3</th>\n",
       "      <td>2</td>\n",
       "      <td>30.000000</td>\n",
       "      <td>10.0</td>\n",
       "      <td>4.0</td>\n",
       "      <td>2.0</td>\n",
       "      <td>0</td>\n",
       "      <td>0.0</td>\n",
       "      <td>1</td>\n",
       "      <td>0.0</td>\n",
       "      <td>2</td>\n",
       "      <td>...</td>\n",
       "      <td>0</td>\n",
       "      <td>0</td>\n",
       "      <td>0</td>\n",
       "      <td>0</td>\n",
       "      <td>0</td>\n",
       "      <td>0</td>\n",
       "      <td>0</td>\n",
       "      <td>0</td>\n",
       "      <td>0</td>\n",
       "      <td>0.8</td>\n",
       "    </tr>\n",
       "    <tr>\n",
       "      <th>4</th>\n",
       "      <td>0</td>\n",
       "      <td>25.000000</td>\n",
       "      <td>0.0</td>\n",
       "      <td>5.0</td>\n",
       "      <td>2.0</td>\n",
       "      <td>1</td>\n",
       "      <td>2.5</td>\n",
       "      <td>0</td>\n",
       "      <td>0.0</td>\n",
       "      <td>0</td>\n",
       "      <td>...</td>\n",
       "      <td>0</td>\n",
       "      <td>0</td>\n",
       "      <td>0</td>\n",
       "      <td>0</td>\n",
       "      <td>0</td>\n",
       "      <td>0</td>\n",
       "      <td>0</td>\n",
       "      <td>0</td>\n",
       "      <td>0</td>\n",
       "      <td>0.0</td>\n",
       "    </tr>\n",
       "    <tr>\n",
       "      <th>5</th>\n",
       "      <td>0</td>\n",
       "      <td>30.000000</td>\n",
       "      <td>10.0</td>\n",
       "      <td>4.0</td>\n",
       "      <td>2.0</td>\n",
       "      <td>0</td>\n",
       "      <td>0.0</td>\n",
       "      <td>1</td>\n",
       "      <td>1.0</td>\n",
       "      <td>1</td>\n",
       "      <td>...</td>\n",
       "      <td>0</td>\n",
       "      <td>0</td>\n",
       "      <td>0</td>\n",
       "      <td>0</td>\n",
       "      <td>0</td>\n",
       "      <td>0</td>\n",
       "      <td>0</td>\n",
       "      <td>0</td>\n",
       "      <td>0</td>\n",
       "      <td>1.6</td>\n",
       "    </tr>\n",
       "  </tbody>\n",
       "</table>\n",
       "<p>5 rows × 34 columns</p>\n",
       "</div>"
      ],
      "text/plain": [
       "         numones  meanspeed  maxdiffspeed  numroad  uniroad  StopSign  \\\n",
       "IntCode                                                                 \n",
       "1              0  25.000000           0.0      3.0      2.0         0   \n",
       "2              0  28.333333          10.0      6.0      2.0         0   \n",
       "3              2  30.000000          10.0      4.0      2.0         0   \n",
       "4              0  25.000000           0.0      5.0      2.0         1   \n",
       "5              0  30.000000          10.0      4.0      2.0         0   \n",
       "\n",
       "         StopPerWay  TrafficLight  TrafficFlash  turnrestriction   ...    \\\n",
       "IntCode                                                            ...     \n",
       "1               0.0             0           0.0                0   ...     \n",
       "2               0.0             1           0.0                5   ...     \n",
       "3               0.0             1           0.0                2   ...     \n",
       "4               2.5             0           0.0                0   ...     \n",
       "5               0.0             1           1.0                1   ...     \n",
       "\n",
       "         Educational/Medical_Institution  Two-Unit_Residential  \\\n",
       "IntCode                                                          \n",
       "1                                      0                     0   \n",
       "2                                      0                     0   \n",
       "3                                      0                     0   \n",
       "4                                      0                     0   \n",
       "5                                      0                     0   \n",
       "\n",
       "         General_Industrial  Planned_Unit_Development  \\\n",
       "IntCode                                                 \n",
       "1                         0                         0   \n",
       "2                         0                         0   \n",
       "3                         0                         0   \n",
       "4                         0                         0   \n",
       "5                         0                         0   \n",
       "\n",
       "         Single-Unit_Detached_Residential  General_Industrial__  \\\n",
       "IntCode                                                           \n",
       "1                                       0                     0   \n",
       "2                                       0                     0   \n",
       "3                                       0                     0   \n",
       "4                                       0                     0   \n",
       "5                                       0                     0   \n",
       "\n",
       "         Highway_Commercial  Three-Unit_Residential  Neighborhood_Office  \\\n",
       "IntCode                                                                    \n",
       "1                         0                       0                    0   \n",
       "2                         0                       0                    0   \n",
       "3                         0                       0                    0   \n",
       "4                         0                       0                    0   \n",
       "5                         0                       0                    0   \n",
       "\n",
       "         numacc  \n",
       "IntCode          \n",
       "1           0.0  \n",
       "2           2.4  \n",
       "3           0.8  \n",
       "4           0.0  \n",
       "5           1.6  \n",
       "\n",
       "[5 rows x 34 columns]"
      ]
     },
     "execution_count": 2,
     "metadata": {},
     "output_type": "execute_result"
    }
   ],
   "source": [
    "newouts.drop(columns=['numacc','ZipCode'],inplace=True)\n",
    "#newouts.ZipCode=newouts.ZipCode.apply(lambda x: int(x.strip(\"\"\"[]''\"\"\")))\n",
    "newouts.StopPerWay.fillna(0, inplace=True)\n",
    "newouts.TrafficFlash.fillna(0, inplace=True)\n",
    "newouts.AccOverTime=newouts.AccOverTime.apply(lambda x: ast.literal_eval(x))\n",
    "newouts.STlist=newouts.STlist.apply(lambda x: ast.literal_eval(x))\n",
    "newouts['numacc']= newouts.AccOverTime.apply(lambda x: sum(x[9:])/5) #New Calculation of accidents over time\n",
    "newouts.drop(columns=['latitude','longitude','AccOverTime','STlist','STstr'],inplace=True)\n",
    "newouts.head()\n"
   ]
  },
  {
   "cell_type": "code",
   "execution_count": 3,
   "metadata": {
    "scrolled": true
   },
   "outputs": [
    {
     "data": {
      "text/plain": [
       "count    10343.000000\n",
       "mean         0.199111\n",
       "std          0.750885\n",
       "min          0.000000\n",
       "25%          0.000000\n",
       "50%          0.000000\n",
       "75%          0.200000\n",
       "max         29.200000\n",
       "Name: numacc, dtype: float64"
      ]
     },
     "execution_count": 3,
     "metadata": {},
     "output_type": "execute_result"
    }
   ],
   "source": [
    "newouts.numacc.describe()"
   ]
  },
  {
   "cell_type": "code",
   "execution_count": 3,
   "metadata": {},
   "outputs": [
    {
     "name": "stderr",
     "output_type": "stream",
     "text": [
      "C:\\Users\\james\\Anaconda3\\envs\\mlbook\\lib\\site-packages\\ipykernel_launcher.py:2: SettingWithCopyWarning: \n",
      "A value is trying to be set on a copy of a slice from a DataFrame\n",
      "\n",
      "See the caveats in the documentation: http://pandas.pydata.org/pandas-docs/stable/indexing.html#indexing-view-versus-copy\n",
      "  \n",
      "C:\\Users\\james\\Anaconda3\\envs\\mlbook\\lib\\site-packages\\ipykernel_launcher.py:4: SettingWithCopyWarning: \n",
      "A value is trying to be set on a copy of a slice from a DataFrame\n",
      "\n",
      "See the caveats in the documentation: http://pandas.pydata.org/pandas-docs/stable/indexing.html#indexing-view-versus-copy\n",
      "  after removing the cwd from sys.path.\n",
      "C:\\Users\\james\\Anaconda3\\envs\\mlbook\\lib\\site-packages\\ipykernel_launcher.py:5: SettingWithCopyWarning: \n",
      "A value is trying to be set on a copy of a slice from a DataFrame\n",
      "\n",
      "See the caveats in the documentation: http://pandas.pydata.org/pandas-docs/stable/indexing.html#indexing-view-versus-copy\n",
      "  \"\"\"\n"
     ]
    }
   ],
   "source": [
    "newouts['numacc2']=0\n",
    "newouts.numacc2[newouts.numacc==0.0]=1\n",
    "#newouts.numacc2[(newouts.numacc>0.0)&(newouts.numacc<=1.0)]=2\n",
    "newouts.numacc2[(newouts.numacc>0.0)&(newouts.numacc<=2.0)]=2\n",
    "newouts.numacc2[(newouts.numacc>2.0)]=3\n",
    "newouts.drop(columns=['numacc'],inplace=True)"
   ]
  },
  {
   "cell_type": "code",
   "execution_count": 4,
   "metadata": {},
   "outputs": [
    {
     "data": {
      "text/plain": [
       "array([0.74320797, 0.23784202, 0.01895001])"
      ]
     },
     "execution_count": 4,
     "metadata": {},
     "output_type": "execute_result"
    }
   ],
   "source": [
    "#proportions of groups\n",
    "(newouts.numacc2.value_counts().values)/(newouts.numacc2.value_counts().values.sum())"
   ]
  },
  {
   "cell_type": "code",
   "execution_count": 5,
   "metadata": {},
   "outputs": [
    {
     "ename": "NameError",
     "evalue": "name 'newdf' is not defined",
     "output_type": "error",
     "traceback": [
      "\u001b[1;31m---------------------------------------------------------------------------\u001b[0m",
      "\u001b[1;31mNameError\u001b[0m                                 Traceback (most recent call last)",
      "\u001b[1;32m<ipython-input-5-282a357c4240>\u001b[0m in \u001b[0;36m<module>\u001b[1;34m\u001b[0m\n\u001b[0;32m      1\u001b[0m \u001b[1;32mfor\u001b[0m \u001b[0mxx\u001b[0m \u001b[1;32min\u001b[0m \u001b[0mrange\u001b[0m\u001b[1;33m(\u001b[0m\u001b[1;36m0\u001b[0m\u001b[1;33m,\u001b[0m\u001b[1;36m10\u001b[0m\u001b[1;33m,\u001b[0m\u001b[1;36m1\u001b[0m\u001b[1;33m)\u001b[0m\u001b[1;33m:\u001b[0m\u001b[1;33m\u001b[0m\u001b[0m\n\u001b[1;32m----> 2\u001b[1;33m     \u001b[0mprint\u001b[0m\u001b[1;33m(\u001b[0m\u001b[0mxx\u001b[0m\u001b[1;33m,\u001b[0m\u001b[0msum\u001b[0m\u001b[1;33m(\u001b[0m\u001b[1;33m(\u001b[0m\u001b[0mnewdf\u001b[0m\u001b[1;33m.\u001b[0m\u001b[0mnumacc\u001b[0m\u001b[1;33m<=\u001b[0m\u001b[0mxx\u001b[0m\u001b[1;33m)\u001b[0m\u001b[1;33m&\u001b[0m\u001b[1;33m(\u001b[0m\u001b[0mnewdf\u001b[0m\u001b[1;33m.\u001b[0m\u001b[0mnumacc\u001b[0m\u001b[1;33m>\u001b[0m\u001b[0mxx\u001b[0m\u001b[1;33m-\u001b[0m\u001b[1;36m1\u001b[0m\u001b[1;33m)\u001b[0m\u001b[1;33m)\u001b[0m\u001b[1;33m)\u001b[0m\u001b[1;33m\u001b[0m\u001b[0m\n\u001b[0m",
      "\u001b[1;31mNameError\u001b[0m: name 'newdf' is not defined"
     ]
    }
   ],
   "source": [
    "for xx in range(0,10,1):\n",
    "    print(xx,sum((newdf.numacc<=xx)&(newdf.numacc>xx-1)))"
   ]
  },
  {
   "cell_type": "markdown",
   "metadata": {},
   "source": [
    "<br /> \n",
    "The Pearson's correlation coefficent matrix of these features shows that many of the features--especially presence of a traffic light at the intersection and the number of signs at the intersection--are correlated with the total number of accidents (numacc): "
   ]
  },
  {
   "cell_type": "code",
   "execution_count": null,
   "metadata": {},
   "outputs": [],
   "source": [
    "#newdf.rename(index=str, columns={\"numones\": \"num1Ways\", \"numroads\": \"numRoads\", \"uniroad\": \"numUniqueRoads\", \"numacc\": \"numAccidents\"})"
   ]
  },
  {
   "cell_type": "code",
   "execution_count": 17,
   "metadata": {},
   "outputs": [
    {
     "data": {
      "text/plain": [
       "Index(['numones', 'meanspeed', 'maxdiffspeed', 'numroad', 'uniroad',\n",
       "       'StopSign', 'StopPerWay', 'TrafficLight', 'TrafficFlash',\n",
       "       'turnrestriction', 'noparking', 'vissigns', 'yielding', 'Complaints311',\n",
       "       'Golden_Triangle_', 'Local_Neighborhood_Commercial_',\n",
       "       'Neighborhood_Industrial', 'Single-Unit_Attached_Residential',\n",
       "       'Urban_Industrial', 'Hillside__', 'Specially_Planned',\n",
       "       'Multi-Unit_Residential', 'Urban_Neighborhood_Commercial', 'Parks',\n",
       "       'Educational/Medical_Institution', 'Two-Unit_Residential',\n",
       "       'General_Industrial', 'Planned_Unit_Development',\n",
       "       'Single-Unit_Detached_Residential', 'General_Industrial__',\n",
       "       'Highway_Commercial', 'Three-Unit_Residential', 'Neighborhood_Office',\n",
       "       'numacc2'],\n",
       "      dtype='object')"
      ]
     },
     "execution_count": 17,
     "metadata": {},
     "output_type": "execute_result"
    }
   ],
   "source": [
    "newouts.columns"
   ]
  },
  {
   "cell_type": "code",
   "execution_count": null,
   "metadata": {},
   "outputs": [],
   "source": [
    "boi = newdf[newdf.columns[0:]].corr()['numacc']\n",
    "boiind = ['No. of One Ways','Mean Speed of Roads','Largest Speed Differential','No. of Roads at Int.',\n",
    "          'No. Unique Roads at Int.','Stop Signs','No. Stop Signs per Way','Traffic Lights','Flashing Traffic Light',\n",
    "          'No. Relevant Signs','Number of Accidents at Int.']\n",
    "boi.values\n",
    "\n",
    "dispArray = pd.DataFrame({'Variables' : boiind, 'Rsq' : boi.values})\n",
    "dispArray.sort_values(by=['Rsq'],ascending=False,inplace=True)\n",
    "dispArray.drop([10])"
   ]
  },
  {
   "cell_type": "code",
   "execution_count": null,
   "metadata": {},
   "outputs": [],
   "source": [
    "print(newdf[newdf.columns[0:]].corr()['numacc'])\n",
    "corrmat = newdf.corr()\n",
    "f, ax = plt.subplots(figsize=(12, 9))\n",
    "sns.heatmap(corrmat, cmap='coolwarm', vmax=1, square=True); "
   ]
  },
  {
   "cell_type": "markdown",
   "metadata": {},
   "source": [
    "<br />\n",
    "In addition to these features, some of the categorical features that I have extracted seem to be predictive of the number of collisions. For instance, Zip Code seems to capture some variance in the data, as shown by this map:\n"
   ]
  },
  {
   "cell_type": "markdown",
   "metadata": {},
   "source": [
    "### Data Cleaning\n",
    "<br />\n",
    "Having shown some preliminary validation of our parameter selection, I will move forward with the model. The first step is to clean the data by filling NaNs, label encoding categorical columns, creating a test set, and scaling the data:\n"
   ]
  },
  {
   "cell_type": "code",
   "execution_count": 4,
   "metadata": {},
   "outputs": [
    {
     "name": "stdout",
     "output_type": "stream",
     "text": [
      "1    6149\n",
      "2    1968\n",
      "3     157\n",
      "Name: numacc2, dtype: int64\n",
      "1    1538\n",
      "2     492\n",
      "3      39\n",
      "Name: numacc2, dtype: int64\n"
     ]
    },
    {
     "name": "stderr",
     "output_type": "stream",
     "text": [
      "C:\\Users\\james\\Anaconda3\\envs\\mlbook\\lib\\site-packages\\pandas\\core\\frame.py:3697: SettingWithCopyWarning: \n",
      "A value is trying to be set on a copy of a slice from a DataFrame\n",
      "\n",
      "See the caveats in the documentation: http://pandas.pydata.org/pandas-docs/stable/indexing.html#indexing-view-versus-copy\n",
      "  errors=errors)\n"
     ]
    }
   ],
   "source": [
    "#Clean up the data\n",
    "\n",
    "#newdf = pd.get_dummies(newdf, columns=['TrafficFlash'])\n",
    "\n",
    "from sklearn.model_selection import StratifiedShuffleSplit\n",
    "split = StratifiedShuffleSplit(n_splits=1, test_size=0.2, random_state=42)\n",
    "for train_index, test_index in split.split(newouts, newouts[\"numacc2\"]):\n",
    "    train_full = newouts.iloc[train_index]\n",
    "    test_full = newouts.iloc[test_index]\n",
    "\n",
    "print(train_full.numacc2.value_counts())\n",
    "print(test_full.numacc2.value_counts())\n",
    "\n",
    "\n",
    "trainY = train_full.numacc2\n",
    "train_full.drop(columns=['numacc2'], inplace=True)\n",
    "testY = test_full.numacc2\n",
    "test_full.drop(columns=['numacc2'], inplace=True)\n",
    "\n"
   ]
  },
  {
   "cell_type": "code",
   "execution_count": 5,
   "metadata": {},
   "outputs": [
    {
     "name": "stderr",
     "output_type": "stream",
     "text": [
      "C:\\Users\\james\\Anaconda3\\envs\\mlbook\\lib\\site-packages\\sklearn\\preprocessing\\data.py:625: DataConversionWarning: Data with input dtype int64, float64 were all converted to float64 by StandardScaler.\n",
      "  return self.partial_fit(X, y)\n",
      "C:\\Users\\james\\Anaconda3\\envs\\mlbook\\lib\\site-packages\\sklearn\\base.py:462: DataConversionWarning: Data with input dtype int64, float64 were all converted to float64 by StandardScaler.\n",
      "  return self.fit(X, **fit_params).transform(X)\n",
      "C:\\Users\\james\\Anaconda3\\envs\\mlbook\\lib\\site-packages\\sklearn\\preprocessing\\data.py:625: DataConversionWarning: Data with input dtype int64, float64 were all converted to float64 by StandardScaler.\n",
      "  return self.partial_fit(X, y)\n",
      "C:\\Users\\james\\Anaconda3\\envs\\mlbook\\lib\\site-packages\\sklearn\\base.py:462: DataConversionWarning: Data with input dtype int64, float64 were all converted to float64 by StandardScaler.\n",
      "  return self.fit(X, **fit_params).transform(X)\n"
     ]
    }
   ],
   "source": [
    "#Scale the data\n",
    "scaler = StandardScaler()\n",
    "train_full = scaler.fit_transform(train_full)\n",
    "test_full = scaler.fit_transform(test_full)"
   ]
  },
  {
   "cell_type": "code",
   "execution_count": 6,
   "metadata": {
    "scrolled": true
   },
   "outputs": [],
   "source": [
    "trainY=trainY.astype('int')\n",
    "testY=testY.astype('int')"
   ]
  },
  {
   "cell_type": "markdown",
   "metadata": {},
   "source": [
    "### Classification Model Training and Evaluation\n",
    "\n",
    "Though I have not examined the full set of features that I initially set out to use, I want to train a model to see how well I can predict the number of collisions in intersections using the current set of features. For this, I have chosen to use a Ridge Regression with cross validation to optimize the regularization hyperparameter. This was selected as a first-pass model as it is not highly prone to overfitting, but it may also not capture complex, non-linear relationships between features:"
   ]
  },
  {
   "cell_type": "code",
   "execution_count": 7,
   "metadata": {},
   "outputs": [],
   "source": [
    "from sklearn.model_selection import GridSearchCV\n",
    "from sklearn.ensemble import RandomForestClassifier"
   ]
  },
  {
   "cell_type": "code",
   "execution_count": 10,
   "metadata": {},
   "outputs": [],
   "source": [
    "\n",
    "# Create the parameter grid based on the results of random search \n",
    "param_grid2 = {\n",
    "    'class_weight': ['balanced'],\n",
    "    'max_depth': [60, 80,100],\n",
    "    'max_features': [6,8,10],\n",
    "    'min_samples_leaf': [2,3,4,5],\n",
    "    'min_samples_split': [12,14,16],\n",
    "    'n_estimators': [100, 200, 300]\n",
    "}\n",
    "# Create a based model\n",
    "rf = RandomForestClassifier()\n",
    "# Instantiate the grid search model\n",
    "grid_search = GridSearchCV(estimator = rf, param_grid = param_grid2, \n",
    "                          cv = 3, n_jobs = -1, verbose = 2)"
   ]
  },
  {
   "cell_type": "code",
   "execution_count": 11,
   "metadata": {
    "scrolled": false
   },
   "outputs": [
    {
     "name": "stdout",
     "output_type": "stream",
     "text": [
      "Fitting 3 folds for each of 324 candidates, totalling 972 fits\n"
     ]
    },
    {
     "name": "stderr",
     "output_type": "stream",
     "text": [
      "[Parallel(n_jobs=-1)]: Using backend LokyBackend with 8 concurrent workers.\n",
      "[Parallel(n_jobs=-1)]: Done  25 tasks      | elapsed:   15.0s\n",
      "[Parallel(n_jobs=-1)]: Done 146 tasks      | elapsed:  1.0min\n",
      "[Parallel(n_jobs=-1)]: Done 349 tasks      | elapsed:  2.4min\n",
      "[Parallel(n_jobs=-1)]: Done 632 tasks      | elapsed:  4.3min\n",
      "[Parallel(n_jobs=-1)]: Done 972 out of 972 | elapsed:  6.7min finished\n"
     ]
    },
    {
     "data": {
      "text/plain": [
       "GridSearchCV(cv=3, error_score='raise-deprecating',\n",
       "       estimator=RandomForestClassifier(bootstrap=True, class_weight=None, criterion='gini',\n",
       "            max_depth=None, max_features='auto', max_leaf_nodes=None,\n",
       "            min_impurity_decrease=0.0, min_impurity_split=None,\n",
       "            min_samples_leaf=1, min_samples_split=2,\n",
       "            min_weight_fraction_leaf=0.0, n_estimators='warn', n_jobs=None,\n",
       "            oob_score=False, random_state=None, verbose=0,\n",
       "            warm_start=False),\n",
       "       fit_params=None, iid='warn', n_jobs=-1,\n",
       "       param_grid={'class_weight': ['balanced'], 'max_depth': [60, 80, 100], 'max_features': [6, 8, 10], 'min_samples_leaf': [2, 3, 4, 5], 'min_samples_split': [12, 14, 16], 'n_estimators': [100, 200, 300]},\n",
       "       pre_dispatch='2*n_jobs', refit=True, return_train_score='warn',\n",
       "       scoring=None, verbose=2)"
      ]
     },
     "execution_count": 11,
     "metadata": {},
     "output_type": "execute_result"
    }
   ],
   "source": [
    "grid_search.fit(train_full,trainY)"
   ]
  },
  {
   "cell_type": "code",
   "execution_count": 12,
   "metadata": {
    "scrolled": true
   },
   "outputs": [
    {
     "data": {
      "text/plain": [
       "{'class_weight': 'balanced',\n",
       " 'max_depth': 80,\n",
       " 'max_features': 6,\n",
       " 'min_samples_leaf': 2,\n",
       " 'min_samples_split': 12,\n",
       " 'n_estimators': 300}"
      ]
     },
     "execution_count": 12,
     "metadata": {},
     "output_type": "execute_result"
    }
   ],
   "source": [
    "grid_search.best_params_ #USE THIS BAD BOI!!! "
   ]
  },
  {
   "cell_type": "code",
   "execution_count": 26,
   "metadata": {},
   "outputs": [],
   "source": [
    "finRF = RandomForestClassifier(class_weight='balanced',n_estimators=300, max_depth=80, min_samples_split=12, min_samples_leaf=2,max_features=6)"
   ]
  },
  {
   "cell_type": "code",
   "execution_count": 28,
   "metadata": {},
   "outputs": [
    {
     "data": {
      "text/plain": [
       "RandomForestClassifier(bootstrap=True, class_weight='balanced',\n",
       "            criterion='gini', max_depth=80, max_features=6,\n",
       "            max_leaf_nodes=None, min_impurity_decrease=0.0,\n",
       "            min_impurity_split=None, min_samples_leaf=2,\n",
       "            min_samples_split=12, min_weight_fraction_leaf=0.0,\n",
       "            n_estimators=300, n_jobs=None, oob_score=False,\n",
       "            random_state=None, verbose=0, warm_start=False)"
      ]
     },
     "execution_count": 28,
     "metadata": {},
     "output_type": "execute_result"
    }
   ],
   "source": [
    "finRF.fit(train_full,trainY)"
   ]
  },
  {
   "cell_type": "code",
   "execution_count": 29,
   "metadata": {},
   "outputs": [
    {
     "name": "stdout",
     "output_type": "stream",
     "text": [
      "Train score:  0.834783659656756  Test score:  0.7723537941034316\n"
     ]
    }
   ],
   "source": [
    "#fit the model to the data\n",
    "#clf = RidgeCV(alphas=np.arange(.1,20,.1)).fit(train_full, trainY)\n",
    "#clf.score(train_full, trainY)\n",
    "\n",
    "#Evaluate the fit:\n",
    "training_predictions = finRF.predict(train_full)\n",
    "#mse = mean_squared_error(trainY, training_predictions)\n",
    "#rmse = np.sqrt(mse)\n",
    "#print('Root mean square error of the training set: ', rmse)\n",
    "\n",
    "\n",
    "#Use our test set to evaluate the model:\n",
    "test_predictions = finRF.predict(test_full)\n",
    "#mse_test = mean_squared_error(testY, test_predictions)\n",
    "#rmse_test = np.sqrt(mse_test)\n",
    "#print('Root mean square error of the test set: ',rmse_test)\n",
    "print('Train score: ',finRF.score(train_full,trainY),' Test score: ',finRF.score(test_full,testY))"
   ]
  },
  {
   "cell_type": "code",
   "execution_count": 12,
   "metadata": {
    "scrolled": true
   },
   "outputs": [
    {
     "name": "stdout",
     "output_type": "stream",
     "text": [
      "              precision    recall  f1-score   support\n",
      "\n",
      "           1       0.87      0.84      0.86      1538\n",
      "           2       0.52      0.57      0.54       492\n",
      "           3       0.46      0.64      0.54        39\n",
      "\n",
      "   micro avg       0.77      0.77      0.77      2069\n",
      "   macro avg       0.62      0.68      0.65      2069\n",
      "weighted avg       0.78      0.77      0.78      2069\n",
      "\n"
     ]
    }
   ],
   "source": [
    "from sklearn.metrics import classification_report\n",
    "print(classification_report(testY, test_predictions))"
   ]
  },
  {
   "cell_type": "code",
   "execution_count": 13,
   "metadata": {},
   "outputs": [
    {
     "data": {
      "text/plain": [
       " 0    0.771870\n",
       " 1    0.129048\n",
       "-1    0.097632\n",
       " 2    0.001450\n",
       "Name: numacc2, dtype: float64"
      ]
     },
     "execution_count": 13,
     "metadata": {},
     "output_type": "execute_result"
    }
   ],
   "source": [
    "((test_predictions-testY).value_counts())/((test_predictions-testY).value_counts().sum())"
   ]
  },
  {
   "cell_type": "code",
   "execution_count": 24,
   "metadata": {
    "scrolled": true
   },
   "outputs": [],
   "source": [
    "tmpacc = newdf.numacc2\n",
    "newdf.drop(columns=['numacc2'], inplace=True)"
   ]
  },
  {
   "cell_type": "code",
   "execution_count": 42,
   "metadata": {},
   "outputs": [
    {
     "name": "stderr",
     "output_type": "stream",
     "text": [
      "C:\\Users\\james\\Anaconda3\\envs\\mlbook\\lib\\site-packages\\sklearn\\preprocessing\\data.py:625: DataConversionWarning: Data with input dtype int64, float64 were all converted to float64 by StandardScaler.\n",
      "  return self.partial_fit(X, y)\n",
      "C:\\Users\\james\\Anaconda3\\envs\\mlbook\\lib\\site-packages\\sklearn\\base.py:462: DataConversionWarning: Data with input dtype int64, float64 were all converted to float64 by StandardScaler.\n",
      "  return self.fit(X, **fit_params).transform(X)\n"
     ]
    }
   ],
   "source": [
    "newdf = scaler.fit_transform(newdf)"
   ]
  },
  {
   "cell_type": "code",
   "execution_count": 46,
   "metadata": {},
   "outputs": [
    {
     "data": {
      "text/plain": [
       "array([0.05078359, 0.18378635, 0.03834269, 0.06161004, 0.02600788,\n",
       "       0.02112715, 0.05459664, 0.11193104, 0.01469459, 0.04714804,\n",
       "       0.03346851, 0.00022247, 0.0154305 , 0.16138104, 0.00798855,\n",
       "       0.02332337, 0.00463648, 0.01234899, 0.01600523, 0.01078083,\n",
       "       0.00179276, 0.01713534, 0.01195324, 0.01623933, 0.0040698 ,\n",
       "       0.01798184, 0.00036232, 0.00461536, 0.02413326, 0.00157146,\n",
       "       0.00106174, 0.00310846, 0.00036109])"
      ]
     },
     "execution_count": 46,
     "metadata": {},
     "output_type": "execute_result"
    }
   ],
   "source": [
    "finRF.feature_importances_"
   ]
  },
  {
   "cell_type": "code",
   "execution_count": 30,
   "metadata": {},
   "outputs": [
    {
     "data": {
      "text/plain": [
       "['RFmod20190726_e.sav']"
      ]
     },
     "execution_count": 30,
     "metadata": {},
     "output_type": "execute_result"
    }
   ],
   "source": [
    "# from sklearn.externals import joblib\n",
    "# joblib.dump(finRF, 'RFmod20190726_e.sav')\n",
    "# #loaded_model = pickle.load(open(filename, 'rb'))"
   ]
  },
  {
   "cell_type": "code",
   "execution_count": 52,
   "metadata": {},
   "outputs": [],
   "source": [
    "import pickle\n",
    "pickle.dump(finRF, open('RFmod20190726_f.sav', 'wb'))"
   ]
  },
  {
   "cell_type": "code",
   "execution_count": 53,
   "metadata": {
    "scrolled": false
   },
   "outputs": [],
   "source": [
    "# from sklearn.externals import joblib\n",
    "# loaded_model = joblib.load('RFmod20190726_e.sav')\n",
    "import pickle\n",
    "loaded_model = pickle.load(open('RFmod20190726_f.sav', 'rb'))"
   ]
  },
  {
   "cell_type": "code",
   "execution_count": 54,
   "metadata": {},
   "outputs": [
    {
     "data": {
      "text/plain": [
       "RandomForestClassifier(bootstrap=True, class_weight='balanced',\n",
       "            criterion='gini', max_depth=80, max_features=6,\n",
       "            max_leaf_nodes=None, min_impurity_decrease=0.0,\n",
       "            min_impurity_split=None, min_samples_leaf=2,\n",
       "            min_samples_split=12, min_weight_fraction_leaf=0.0,\n",
       "            n_estimators=300, n_jobs=None, oob_score=False,\n",
       "            random_state=None, verbose=0, warm_start=False)"
      ]
     },
     "execution_count": 54,
     "metadata": {},
     "output_type": "execute_result"
    }
   ],
   "source": [
    "loaded_model"
   ]
  },
  {
   "cell_type": "code",
   "execution_count": 6,
   "metadata": {
    "scrolled": true
   },
   "outputs": [
    {
     "name": "stderr",
     "output_type": "stream",
     "text": [
      "C:\\Users\\james\\Anaconda3\\envs\\mlbook\\lib\\site-packages\\sklearn\\preprocessing\\data.py:625: DataConversionWarning: Data with input dtype int64, float64 were all converted to float64 by StandardScaler.\n",
      "  return self.partial_fit(X, y)\n",
      "C:\\Users\\james\\Anaconda3\\envs\\mlbook\\lib\\site-packages\\sklearn\\base.py:462: DataConversionWarning: Data with input dtype int64, float64 were all converted to float64 by StandardScaler.\n",
      "  return self.fit(X, **fit_params).transform(X)\n"
     ]
    }
   ],
   "source": [
    "#Base inputs for the model\n",
    "modins = pd.read_csv('modelinputs.csv')\n",
    "modins.set_index('IntCode',inplace=True)\n",
    "scaler = StandardScaler()\n",
    "scalemodin = scaler.fit_transform(modins)"
   ]
  },
  {
   "cell_type": "code",
   "execution_count": 37,
   "metadata": {
    "scrolled": true
   },
   "outputs": [
    {
     "data": {
      "text/html": [
       "<div>\n",
       "<style scoped>\n",
       "    .dataframe tbody tr th:only-of-type {\n",
       "        vertical-align: middle;\n",
       "    }\n",
       "\n",
       "    .dataframe tbody tr th {\n",
       "        vertical-align: top;\n",
       "    }\n",
       "\n",
       "    .dataframe thead th {\n",
       "        text-align: right;\n",
       "    }\n",
       "</style>\n",
       "<table border=\"1\" class=\"dataframe\">\n",
       "  <thead>\n",
       "    <tr style=\"text-align: right;\">\n",
       "      <th></th>\n",
       "      <th>latitude</th>\n",
       "      <th>longitude</th>\n",
       "      <th>AccOverTime</th>\n",
       "    </tr>\n",
       "    <tr>\n",
       "      <th>IntCode</th>\n",
       "      <th></th>\n",
       "      <th></th>\n",
       "      <th></th>\n",
       "    </tr>\n",
       "  </thead>\n",
       "  <tbody>\n",
       "    <tr>\n",
       "      <th>1</th>\n",
       "      <td>40.444068</td>\n",
       "      <td>-79.995431</td>\n",
       "      <td>[0, 0, 0, 0, 0, 0, 0, 0, 0, 0, 0, 0, 0, 0]</td>\n",
       "    </tr>\n",
       "    <tr>\n",
       "      <th>2</th>\n",
       "      <td>40.444456</td>\n",
       "      <td>-79.995609</td>\n",
       "      <td>[0, 0, 0, 4, 0, 0, 1, 2, 2, 1, 2, 3, 3, 3]</td>\n",
       "    </tr>\n",
       "    <tr>\n",
       "      <th>3</th>\n",
       "      <td>40.446443</td>\n",
       "      <td>-79.996514</td>\n",
       "      <td>[0, 0, 0, 0, 3, 0, 0, 1, 1, 0, 0, 2, 2, 0]</td>\n",
       "    </tr>\n",
       "    <tr>\n",
       "      <th>4</th>\n",
       "      <td>40.444930</td>\n",
       "      <td>-79.996041</td>\n",
       "      <td>[0, 0, 0, 0, 0, 0, 0, 0, 0, 0, 0, 0, 0, 0]</td>\n",
       "    </tr>\n",
       "    <tr>\n",
       "      <th>5</th>\n",
       "      <td>40.429414</td>\n",
       "      <td>-79.988609</td>\n",
       "      <td>[0, 0, 0, 0, 0, 2, 1, 2, 0, 4, 0, 2, 0, 2]</td>\n",
       "    </tr>\n",
       "  </tbody>\n",
       "</table>\n",
       "</div>"
      ],
      "text/plain": [
       "          latitude  longitude                                 AccOverTime\n",
       "IntCode                                                                  \n",
       "1        40.444068 -79.995431  [0, 0, 0, 0, 0, 0, 0, 0, 0, 0, 0, 0, 0, 0]\n",
       "2        40.444456 -79.995609  [0, 0, 0, 4, 0, 0, 1, 2, 2, 1, 2, 3, 3, 3]\n",
       "3        40.446443 -79.996514  [0, 0, 0, 0, 3, 0, 0, 1, 1, 0, 0, 2, 2, 0]\n",
       "4        40.444930 -79.996041  [0, 0, 0, 0, 0, 0, 0, 0, 0, 0, 0, 0, 0, 0]\n",
       "5        40.429414 -79.988609  [0, 0, 0, 0, 0, 2, 1, 2, 0, 4, 0, 2, 0, 2]"
      ]
     },
     "execution_count": 37,
     "metadata": {},
     "output_type": "execute_result"
    }
   ],
   "source": [
    "keymets = pd.read_csv('keymets.csv')\n",
    "keymets.set_index('IntCode',inplace=True)\n",
    "keymets.head()"
   ]
  },
  {
   "cell_type": "code",
   "execution_count": 33,
   "metadata": {
    "scrolled": true
   },
   "outputs": [
    {
     "data": {
      "text/plain": [
       "30.0"
      ]
     },
     "execution_count": 33,
     "metadata": {},
     "output_type": "execute_result"
    }
   ],
   "source": [
    "float(str(modins.meanspeed[899]))"
   ]
  },
  {
   "cell_type": "code",
   "execution_count": 65,
   "metadata": {},
   "outputs": [
    {
     "name": "stdout",
     "output_type": "stream",
     "text": [
      "30.0\n"
     ]
    }
   ],
   "source": [
    "hi = '30.0'\n",
    "nhi = []\n",
    "try:\n",
    "    nhi=float(hi)\n",
    "except:\n",
    "    pass\n",
    "\n",
    "if nhi:\n",
    "    print(nhi)"
   ]
  },
  {
   "cell_type": "code",
   "execution_count": 40,
   "metadata": {},
   "outputs": [],
   "source": [
    "newouts = pd.read_csv(os.path.dirname(path)+r'/data_checkpoints/prelim_dashboard_dataC.csv')\n",
    "newouts.set_index('IntCode',inplace=True)"
   ]
  },
  {
   "cell_type": "code",
   "execution_count": 66,
   "metadata": {},
   "outputs": [
    {
     "data": {
      "text/plain": [
       "10.0"
      ]
     },
     "execution_count": 66,
     "metadata": {},
     "output_type": "execute_result"
    }
   ],
   "source": [
    "modins.maxdiffspeed[899]"
   ]
  },
  {
   "cell_type": "code",
   "execution_count": 21,
   "metadata": {
    "scrolled": true
   },
   "outputs": [
    {
     "data": {
      "text/plain": [
       "array([[ 1.1965191 ,  0.63163981,  0.60763271,  0.47470204, -0.36454582,\n",
       "         1.19377047, -0.6842908 ,  3.89695118,  8.56796778,  6.47711417,\n",
       "        -0.37584494, -0.09190325, -0.1290704 ,  0.67612535, -0.1511428 ,\n",
       "        -0.44381071, -0.12810606, -0.42017162, -0.25853158, -0.35282231,\n",
       "        -0.10603605, -0.36500832, -0.19017123, -0.36823237, -0.15834876,\n",
       "         2.13279623, -0.0717679 , -0.18267448, -0.86898401, -0.09102865,\n",
       "        -0.0904872 ,  9.30873474, -0.06308573]])"
      ]
     },
     "execution_count": 21,
     "metadata": {},
     "output_type": "execute_result"
    }
   ],
   "source": [
    "scaler.transform(hi.values.reshape(1, -1))"
   ]
  },
  {
   "cell_type": "code",
   "execution_count": 28,
   "metadata": {},
   "outputs": [
    {
     "data": {
      "text/plain": [
       "False"
      ]
     },
     "execution_count": 28,
     "metadata": {},
     "output_type": "execute_result"
    }
   ],
   "source": [
    "intnum=899\n",
    "(modins.TrafficLight[intnum]==1)&(modins.TrafficFlash[intnum]==0)\n",
    "\n",
    "# if modins.TrafficLight[intnum]==1&modins.TrafficFlash[intnum]==0:\n",
    "#     print('hi')"
   ]
  },
  {
   "cell_type": "code",
   "execution_count": 36,
   "metadata": {
    "scrolled": true
   },
   "outputs": [
    {
     "name": "stderr",
     "output_type": "stream",
     "text": [
      "C:\\Users\\james\\Anaconda3\\envs\\mlbook\\lib\\site-packages\\sklearn\\preprocessing\\data.py:625: DataConversionWarning: Data with input dtype int64, float64 were all converted to float64 by StandardScaler.\n",
      "  return self.partial_fit(X, y)\n",
      "C:\\Users\\james\\Anaconda3\\envs\\mlbook\\lib\\site-packages\\sklearn\\base.py:462: DataConversionWarning: Data with input dtype int64, float64 were all converted to float64 by StandardScaler.\n",
      "  return self.fit(X, **fit_params).transform(X)\n"
     ]
    }
   ],
   "source": [
    "scaler = StandardScaler()\n",
    "train_full = scaler.fit_transform(modinputs)"
   ]
  },
  {
   "cell_type": "code",
   "execution_count": 69,
   "metadata": {},
   "outputs": [],
   "source": [
    "howdy = ['RT','WR']\n",
    "\n",
    "if 'R' in howdy:\n",
    "    print('peppz')"
   ]
  },
  {
   "cell_type": "code",
   "execution_count": 48,
   "metadata": {
    "scrolled": true
   },
   "outputs": [
    {
     "data": {
      "text/plain": [
       "3"
      ]
     },
     "execution_count": 48,
     "metadata": {},
     "output_type": "execute_result"
    }
   ],
   "source": [
    "int(loaded_model.predict(train_full[2-1].reshape(1, -1))[0])"
   ]
  },
  {
   "cell_type": "code",
   "execution_count": 70,
   "metadata": {},
   "outputs": [
    {
     "data": {
      "text/plain": [
       "Index(['numones', 'meanspeed', 'maxdiffspeed', 'numroad', 'uniroad',\n",
       "       'StopSign', 'StopPerWay', 'TrafficLight', 'TrafficFlash',\n",
       "       'turnrestriction', 'noparking', 'vissigns', 'yielding', 'Complaints311',\n",
       "       'Golden_Triangle_', 'Local_Neighborhood_Commercial_',\n",
       "       'Neighborhood_Industrial', 'Single-Unit_Attached_Residential',\n",
       "       'Urban_Industrial', 'Hillside__', 'Specially_Planned',\n",
       "       'Multi-Unit_Residential', 'Urban_Neighborhood_Commercial', 'Parks',\n",
       "       'Educational/Medical_Institution', 'Two-Unit_Residential',\n",
       "       'General_Industrial', 'Planned_Unit_Development',\n",
       "       'Single-Unit_Detached_Residential', 'General_Industrial__',\n",
       "       'Highway_Commercial', 'Three-Unit_Residential', 'Neighborhood_Office'],\n",
       "      dtype='object')"
      ]
     },
     "execution_count": 70,
     "metadata": {},
     "output_type": "execute_result"
    }
   ],
   "source": [
    "modins.columns"
   ]
  },
  {
   "cell_type": "code",
   "execution_count": 50,
   "metadata": {},
   "outputs": [
    {
     "data": {
      "text/html": [
       "<div>\n",
       "<style scoped>\n",
       "    .dataframe tbody tr th:only-of-type {\n",
       "        vertical-align: middle;\n",
       "    }\n",
       "\n",
       "    .dataframe tbody tr th {\n",
       "        vertical-align: top;\n",
       "    }\n",
       "\n",
       "    .dataframe thead th {\n",
       "        text-align: right;\n",
       "    }\n",
       "</style>\n",
       "<table border=\"1\" class=\"dataframe\">\n",
       "  <thead>\n",
       "    <tr style=\"text-align: right;\">\n",
       "      <th></th>\n",
       "      <th>IntCode</th>\n",
       "      <th>latitude</th>\n",
       "      <th>longitude</th>\n",
       "      <th>AccOverTime</th>\n",
       "    </tr>\n",
       "  </thead>\n",
       "  <tbody>\n",
       "    <tr>\n",
       "      <th>0</th>\n",
       "      <td>1</td>\n",
       "      <td>40.444068</td>\n",
       "      <td>-79.995431</td>\n",
       "      <td>[0, 0, 0, 0, 0, 0, 0, 0, 0, 0, 0, 0, 0, 0]</td>\n",
       "    </tr>\n",
       "    <tr>\n",
       "      <th>1</th>\n",
       "      <td>2</td>\n",
       "      <td>40.444456</td>\n",
       "      <td>-79.995609</td>\n",
       "      <td>[0, 0, 0, 4, 0, 0, 1, 2, 2, 1, 2, 3, 3, 3]</td>\n",
       "    </tr>\n",
       "    <tr>\n",
       "      <th>2</th>\n",
       "      <td>3</td>\n",
       "      <td>40.446443</td>\n",
       "      <td>-79.996514</td>\n",
       "      <td>[0, 0, 0, 0, 3, 0, 0, 1, 1, 0, 0, 2, 2, 0]</td>\n",
       "    </tr>\n",
       "    <tr>\n",
       "      <th>3</th>\n",
       "      <td>4</td>\n",
       "      <td>40.444930</td>\n",
       "      <td>-79.996041</td>\n",
       "      <td>[0, 0, 0, 0, 0, 0, 0, 0, 0, 0, 0, 0, 0, 0]</td>\n",
       "    </tr>\n",
       "    <tr>\n",
       "      <th>4</th>\n",
       "      <td>5</td>\n",
       "      <td>40.429414</td>\n",
       "      <td>-79.988609</td>\n",
       "      <td>[0, 0, 0, 0, 0, 2, 1, 2, 0, 4, 0, 2, 0, 2]</td>\n",
       "    </tr>\n",
       "  </tbody>\n",
       "</table>\n",
       "</div>"
      ],
      "text/plain": [
       "   IntCode   latitude  longitude                                 AccOverTime\n",
       "0        1  40.444068 -79.995431  [0, 0, 0, 0, 0, 0, 0, 0, 0, 0, 0, 0, 0, 0]\n",
       "1        2  40.444456 -79.995609  [0, 0, 0, 4, 0, 0, 1, 2, 2, 1, 2, 3, 3, 3]\n",
       "2        3  40.446443 -79.996514  [0, 0, 0, 0, 3, 0, 0, 1, 1, 0, 0, 2, 2, 0]\n",
       "3        4  40.444930 -79.996041  [0, 0, 0, 0, 0, 0, 0, 0, 0, 0, 0, 0, 0, 0]\n",
       "4        5  40.429414 -79.988609  [0, 0, 0, 0, 0, 2, 1, 2, 0, 4, 0, 2, 0, 2]"
      ]
     },
     "execution_count": 50,
     "metadata": {},
     "output_type": "execute_result"
    }
   ],
   "source": [
    "keymets.head()"
   ]
  },
  {
   "cell_type": "code",
   "execution_count": 24,
   "metadata": {
    "scrolled": true
   },
   "outputs": [],
   "source": [
    "\n",
    "cols2 = ['Number of One Ways','Mean Speed of Roads','Max. Difference in Speed of Roads','Number of Roads',\n",
    "        'Number of Uniquely Named Roads','Stop Sign Intersection','Stop Signs Per Road','Traffic Light Intersection',\n",
    "         'Dynamic Traffic Signal','Turn Restrictions','Parking Restrictions at Intersection',\n",
    "         'Warning Signs Present','Yielding Signs Present','Number of 311 Complaints']+list(newdf.columns[15:])\n",
    "\n",
    "\n"
   ]
  },
  {
   "cell_type": "code",
   "execution_count": 45,
   "metadata": {},
   "outputs": [
    {
     "ename": "NameError",
     "evalue": "name 'cols2' is not defined",
     "output_type": "error",
     "traceback": [
      "\u001b[1;31m---------------------------------------------------------------------------\u001b[0m",
      "\u001b[1;31mNameError\u001b[0m                                 Traceback (most recent call last)",
      "\u001b[1;32m<ipython-input-45-ff8dd1478e5d>\u001b[0m in \u001b[0;36m<module>\u001b[1;34m\u001b[0m\n\u001b[0;32m      2\u001b[0m \u001b[1;31m#                                    columns=['Relative Importance']).sort_values('Relative Importance', ascending=False)\u001b[0m\u001b[1;33m\u001b[0m\u001b[1;33m\u001b[0m\u001b[0m\n\u001b[0;32m      3\u001b[0m \u001b[1;33m\u001b[0m\u001b[0m\n\u001b[1;32m----> 4\u001b[1;33m feature_importances = pd.DataFrame(finRF.feature_importances_, index = cols2, \n\u001b[0m\u001b[0;32m      5\u001b[0m                                    columns=['Relative Importance']).sort_values('Relative Importance', ascending=False)\n\u001b[0;32m      6\u001b[0m \u001b[1;33m\u001b[0m\u001b[0m\n",
      "\u001b[1;31mNameError\u001b[0m: name 'cols2' is not defined"
     ]
    }
   ],
   "source": [
    "# feature_importances = pd.DataFrame(grid_search.best_estimator_.feature_importances_, index = cols2, \n",
    "#                                    columns=['Relative Importance']).sort_values('Relative Importance', ascending=False)\n",
    "\n",
    "feature_importances = pd.DataFrame(finRF.feature_importances_, index = cols2, \n",
    "                                   columns=['Relative Importance']).sort_values('Relative Importance', ascending=False)\n",
    "\n",
    "feature_importances"
   ]
  },
  {
   "cell_type": "code",
   "execution_count": 33,
   "metadata": {},
   "outputs": [
    {
     "data": {
      "text/html": [
       "<div>\n",
       "<style scoped>\n",
       "    .dataframe tbody tr th:only-of-type {\n",
       "        vertical-align: middle;\n",
       "    }\n",
       "\n",
       "    .dataframe tbody tr th {\n",
       "        vertical-align: top;\n",
       "    }\n",
       "\n",
       "    .dataframe thead th {\n",
       "        text-align: right;\n",
       "    }\n",
       "</style>\n",
       "<table border=\"1\" class=\"dataframe\">\n",
       "  <thead>\n",
       "    <tr style=\"text-align: right;\">\n",
       "      <th></th>\n",
       "      <th>Relative Importance</th>\n",
       "    </tr>\n",
       "  </thead>\n",
       "  <tbody>\n",
       "    <tr>\n",
       "      <th>Mean Speed of Roads</th>\n",
       "      <td>0.220073</td>\n",
       "    </tr>\n",
       "    <tr>\n",
       "      <th>Traffic Light Intersection</th>\n",
       "      <td>0.184699</td>\n",
       "    </tr>\n",
       "    <tr>\n",
       "      <th>Number of 311 Complaints</th>\n",
       "      <td>0.141456</td>\n",
       "    </tr>\n",
       "    <tr>\n",
       "      <th>Turn Restrictions</th>\n",
       "      <td>0.070707</td>\n",
       "    </tr>\n",
       "    <tr>\n",
       "      <th>Max. Difference in Speed of Roads</th>\n",
       "      <td>0.069884</td>\n",
       "    </tr>\n",
       "    <tr>\n",
       "      <th>Number of Roads</th>\n",
       "      <td>0.057619</td>\n",
       "    </tr>\n",
       "    <tr>\n",
       "      <th>Stop Signs Per Road</th>\n",
       "      <td>0.053569</td>\n",
       "    </tr>\n",
       "    <tr>\n",
       "      <th>Stop Sign Intersection</th>\n",
       "      <td>0.039694</td>\n",
       "    </tr>\n",
       "    <tr>\n",
       "      <th>Number of One Ways</th>\n",
       "      <td>0.027194</td>\n",
       "    </tr>\n",
       "    <tr>\n",
       "      <th>Parking Restrictions at Intersection</th>\n",
       "      <td>0.016754</td>\n",
       "    </tr>\n",
       "  </tbody>\n",
       "</table>\n",
       "</div>"
      ],
      "text/plain": [
       "                                      Relative Importance\n",
       "Mean Speed of Roads                              0.220073\n",
       "Traffic Light Intersection                       0.184699\n",
       "Number of 311 Complaints                         0.141456\n",
       "Turn Restrictions                                0.070707\n",
       "Max. Difference in Speed of Roads                0.069884\n",
       "Number of Roads                                  0.057619\n",
       "Stop Signs Per Road                              0.053569\n",
       "Stop Sign Intersection                           0.039694\n",
       "Number of One Ways                               0.027194\n",
       "Parking Restrictions at Intersection             0.016754"
      ]
     },
     "execution_count": 33,
     "metadata": {},
     "output_type": "execute_result"
    }
   ],
   "source": [
    "FI = feature_importances.iloc[:10]\n",
    "FI"
   ]
  },
  {
   "cell_type": "code",
   "execution_count": 43,
   "metadata": {},
   "outputs": [
    {
     "data": {
      "image/png": "[encoded data removed]",
      "text/plain": [
       "<Figure size 640x480 with 1 Axes>"
      ]
     },
     "metadata": {},
     "output_type": "display_data"
    }
   ],
   "source": [
    "plt.rcdefaults()\n",
    "fig, ax = plt.subplots()\n",
    "\n",
    "y_pos = np.arange(1,11)\n",
    "\n",
    "ax.barh(y_pos, FI['Relative Importance'].values, align='center',color='#4CA64C')\n",
    "ax.set_yticks(y_pos)\n",
    "ax.set_yticklabels(FI.index)\n",
    "ax.invert_yaxis()  # labels read top-to-bottom\n",
    "ax.set_xlabel('Relative Importance')\n",
    "\n",
    "\n",
    "plt.show()"
   ]
  },
  {
   "cell_type": "markdown",
   "metadata": {},
   "source": [
    "This pickled model is what is used in the dashboard application. It is unpickled in app.py and implemented from there!"
   ]
  },
  {
   "cell_type": "code",
   "execution_count": null,
   "metadata": {},
   "outputs": [],
   "source": []
  }
 ],
 "metadata": {
  "kernelspec": {
   "display_name": "Python 3",
   "language": "python",
   "name": "python3"
  },
  "language_info": {
   "codemirror_mode": {
    "name": "ipython",
    "version": 3
   },
   "file_extension": ".py",
   "mimetype": "text/x-python",
   "name": "python",
   "nbconvert_exporter": "python",
   "pygments_lexer": "ipython3",
   "version": "3.6.6"
  }
 },
 "nbformat": 4,
 "nbformat_minor": 2
}
