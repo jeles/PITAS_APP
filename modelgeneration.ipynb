{
 "cells": [
  {
   "cell_type": "markdown",
   "metadata": {},
   "source": [
    "# PITAS Model Generation Walk-Through"
   ]
  },
  {
   "cell_type": "markdown",
   "metadata": {},
   "source": [
    "### Import Libraries and Data\n",
    "<br />\n",
    "The \"intfeat\" dataframe comes from pre-processed data containing for each intersection:\n",
    "\n",
    "- Number of One-Ways: 'numones', integer\n",
    "- The mean speed of roads at the intersection: 'meanspeed', float\n",
    "- The maximum speed differential at the intersection: 'maxdiffspeed', float\n",
    "- The number of roads at the intersection: 'numroad', integer\n",
    "- The number of uniquely named roads at the intersection: 'uniroad', integer\n",
    "- If the intersection has stop signs: 'StopSign', Bool\n",
    "- The number of stop signs per road at the intersection: 'StopPerWay', float\n",
    "- If the intersection has a traffic light: 'TrafficLight', Bool \n",
    "- If the intersection has a traffic light that has a period of Red/Yellow Flashing: 'TrafficFlash', Bool\n",
    "- The number of signs restricting turns: 'turnrestriction', integer\n",
    "- The number of signs restricting parking: 'noparking', integer\n",
    "- The number of signs alerting drivers to upcoming intersections: 'vissigns', integer\n",
    "- The number of signs for yielding: 'yielding', integer\n",
    "- The number of 311 complaints about the intersection since 2015: 'Complaints311', integer\n",
    "- Categorical encoding columns for the zoning of the intersection:\n",
    "       'Golden_Triangle_', 'Local_Neighborhood_Commercial_',\n",
    "       'Neighborhood_Industrial', 'Single-Unit_Attached_Residential',\n",
    "       'Urban_Industrial', 'Hillside__', 'Specially_Planned',\n",
    "       'Multi-Unit_Residential', 'Urban_Neighborhood_Commercial', 'Parks',\n",
    "       'Educational/Medical_Institution', 'Two-Unit_Residential',\n",
    "       'General_Industrial', 'Planned_Unit_Development',\n",
    "       'Single-Unit_Detached_Residential', 'General_Industrial__',\n",
    "       'Highway_Commercial', 'Three-Unit_Residential', 'Neighborhood_Office', Bool\n",
    "- The latitude of the interesection, 'latitude', float\n",
    "- The longitude of the intersection, 'longitude', float\n",
    "- An array of the number of accidents from 2004-2017, 'AccOverTime', Numpy Array\n",
    "- A list of unique road names at the intersection: 'STlist', list\n",
    "- A string containing all uniqe road names at the intersection: 'STstr', string\n",
    "- The mean number of accidents at the intersection (2004-2017): 'numacc', float"
   ]
  },
  {
   "cell_type": "code",
   "execution_count": 42,
   "metadata": {
    "scrolled": true
   },
   "outputs": [],
   "source": [
    "import os\n",
    "import numpy as np\n",
    "import pandas as pd\n",
    "from six.moves import urllib\n",
    "import ast\n",
    "\n",
    "import warnings\n",
    "warnings.filterwarnings('ignore')\n",
    "\n",
    "import sklearn\n",
    "from sklearn.pipeline import Pipeline\n",
    "from sklearn.model_selection import StratifiedShuffleSplit\n",
    "from sklearn.preprocessing import StandardScaler\n",
    "from sklearn.ensemble import RandomForestClassifier\n",
    "from sklearn.model_selection import GridSearchCV\n",
    "from sklearn.metrics import classification_report\n",
    "\n",
    "import pickle"
   ]
  },
  {
   "cell_type": "code",
   "execution_count": 43,
   "metadata": {
    "scrolled": true
   },
   "outputs": [],
   "source": [
    "#Import data\n",
    "path = os.getcwd()\n",
    "intfeat = pd.read_csv(os.path.dirname(path)+r'/data_checkpoints/ModelDf.csv')\n",
    "intfeat.set_index('IntCode',inplace=True)\n",
    "\n",
    "#Fill NaNs, remove unnecessary features, \n",
    "intfeat.drop(columns=['numacc','ZipCode'],inplace=True)\n",
    "intfeat.StopPerWay.fillna(0, inplace=True)\n",
    "intfeat.TrafficFlash.fillna(0, inplace=True)\n",
    "intfeat.AccOverTime=intfeat.AccOverTime.apply(lambda x: ast.literal_eval(x))\n",
    "intfeat.STlist=intfeat.STlist.apply(lambda x: ast.literal_eval(x))\n",
    "intfeat['numacc']= intfeat.AccOverTime.apply(lambda x: sum(x[9:])/5) #Mean annual accidents 2013-2017\n",
    "intfeat.drop(columns=['latitude','longitude','AccOverTime','STlist','STstr'],inplace=True)\n"
   ]
  },
  {
   "cell_type": "code",
   "execution_count": 44,
   "metadata": {},
   "outputs": [],
   "source": [
    "#Create labels for intersections\n",
    "intfeat['numacc2']=0\n",
    "intfeat.numacc2.loc[intfeat.numacc==0.0]=1\n",
    "intfeat.numacc2.loc[(intfeat.numacc>0.0)&(intfeat.numacc<=2.0)]=2\n",
    "intfeat.numacc2.loc[(intfeat.numacc>2.0)]=3\n",
    "intfeat.drop(columns=['numacc'],inplace=True)"
   ]
  },
  {
   "cell_type": "markdown",
   "metadata": {},
   "source": [
    "### Data Splitting and Cleaning\n",
    "<br />\n",
    "We need to generate training and test sets with representative numbers of each classification label and we need to scale the data so that attributes can be compared to one another.\n"
   ]
  },
  {
   "cell_type": "code",
   "execution_count": 45,
   "metadata": {},
   "outputs": [
    {
     "name": "stdout",
     "output_type": "stream",
     "text": [
      "Training set label proportions:\n",
      " 1    0.743171\n",
      "2    0.237854\n",
      "3    0.018975\n",
      "Name: numacc2, dtype: float64\n",
      "Test set label proportions:\n",
      " 1    0.743354\n",
      "2    0.237796\n",
      "3    0.018850\n",
      "Name: numacc2, dtype: float64\n"
     ]
    }
   ],
   "source": [
    "split = StratifiedShuffleSplit(n_splits=1, test_size=0.2, random_state=42)\n",
    "for train_index, test_index in split.split(intfeat, intfeat[\"numacc2\"]):\n",
    "    train_full = intfeat.iloc[train_index]\n",
    "    test_full = intfeat.iloc[test_index]\n",
    "\n",
    "print('Training set label proportions:\\n',train_full.numacc2.value_counts()/train_full.numacc2.value_counts().sum())\n",
    "print('Test set label proportions:\\n',test_full.numacc2.value_counts()/test_full.numacc2.value_counts().sum())\n",
    "\n",
    "\n",
    "trainY = train_full.numacc2\n",
    "train_full.drop(columns=['numacc2'], inplace=True)\n",
    "testY = test_full.numacc2\n",
    "test_full.drop(columns=['numacc2'], inplace=True)\n",
    "\n"
   ]
  },
  {
   "cell_type": "code",
   "execution_count": 46,
   "metadata": {},
   "outputs": [],
   "source": [
    "#Use Standard Scaler to \n",
    "scaler = StandardScaler()\n",
    "train_full = scaler.fit_transform(train_full)\n",
    "test_full = scaler.fit_transform(test_full)"
   ]
  },
  {
   "cell_type": "code",
   "execution_count": 47,
   "metadata": {
    "scrolled": true
   },
   "outputs": [],
   "source": [
    "trainY=trainY.astype('int')\n",
    "testY=testY.astype('int')"
   ]
  },
  {
   "cell_type": "markdown",
   "metadata": {},
   "source": [
    "### Classification Model Training and Optimization\n",
    "\n",
    "A Random Forest Classifier is built using a CV grid search to optimize parameters. "
   ]
  },
  {
   "cell_type": "code",
   "execution_count": 48,
   "metadata": {},
   "outputs": [],
   "source": [
    "# Create the parameter grid based on the results of random search \n",
    "param_grid2 = {\n",
    "    'class_weight': ['balanced'],\n",
    "    'max_depth': [60, 80,100],\n",
    "    'max_features': [6,8,10],\n",
    "    'min_samples_leaf': [2,3,4,5],\n",
    "    'min_samples_split': [12,14,16],\n",
    "    'n_estimators': [100, 200, 300]\n",
    "}\n",
    "# Create a based model\n",
    "rf = RandomForestClassifier()\n",
    "# Instantiate the grid search model\n",
    "grid_search = GridSearchCV(estimator = rf, param_grid = param_grid2, \n",
    "                          cv = 3, n_jobs = -1, verbose = 2)"
   ]
  },
  {
   "cell_type": "code",
   "execution_count": 11,
   "metadata": {
    "scrolled": false
   },
   "outputs": [
    {
     "name": "stdout",
     "output_type": "stream",
     "text": [
      "Fitting 3 folds for each of 324 candidates, totalling 972 fits\n"
     ]
    },
    {
     "name": "stderr",
     "output_type": "stream",
     "text": [
      "[Parallel(n_jobs=-1)]: Using backend LokyBackend with 8 concurrent workers.\n",
      "[Parallel(n_jobs=-1)]: Done  25 tasks      | elapsed:   15.0s\n",
      "[Parallel(n_jobs=-1)]: Done 146 tasks      | elapsed:  1.0min\n",
      "[Parallel(n_jobs=-1)]: Done 349 tasks      | elapsed:  2.4min\n",
      "[Parallel(n_jobs=-1)]: Done 632 tasks      | elapsed:  4.3min\n",
      "[Parallel(n_jobs=-1)]: Done 972 out of 972 | elapsed:  6.7min finished\n"
     ]
    },
    {
     "data": {
      "text/plain": [
       "GridSearchCV(cv=3, error_score='raise-deprecating',\n",
       "       estimator=RandomForestClassifier(bootstrap=True, class_weight=None, criterion='gini',\n",
       "            max_depth=None, max_features='auto', max_leaf_nodes=None,\n",
       "            min_impurity_decrease=0.0, min_impurity_split=None,\n",
       "            min_samples_leaf=1, min_samples_split=2,\n",
       "            min_weight_fraction_leaf=0.0, n_estimators='warn', n_jobs=None,\n",
       "            oob_score=False, random_state=None, verbose=0,\n",
       "            warm_start=False),\n",
       "       fit_params=None, iid='warn', n_jobs=-1,\n",
       "       param_grid={'class_weight': ['balanced'], 'max_depth': [60, 80, 100], 'max_features': [6, 8, 10], 'min_samples_leaf': [2, 3, 4, 5], 'min_samples_split': [12, 14, 16], 'n_estimators': [100, 200, 300]},\n",
       "       pre_dispatch='2*n_jobs', refit=True, return_train_score='warn',\n",
       "       scoring=None, verbose=2)"
      ]
     },
     "execution_count": 11,
     "metadata": {},
     "output_type": "execute_result"
    }
   ],
   "source": [
    "grid_search.fit(train_full,trainY)"
   ]
  },
  {
   "cell_type": "markdown",
   "metadata": {},
   "source": [
    "The best parameters can then be used to create a new classifier. While not necessary, this step will minimize the memory footprint of the estimator for deployment on the final dashboard."
   ]
  },
  {
   "cell_type": "code",
   "execution_count": 12,
   "metadata": {
    "scrolled": true
   },
   "outputs": [
    {
     "data": {
      "text/plain": [
       "{'class_weight': 'balanced',\n",
       " 'max_depth': 80,\n",
       " 'max_features': 6,\n",
       " 'min_samples_leaf': 2,\n",
       " 'min_samples_split': 12,\n",
       " 'n_estimators': 300}"
      ]
     },
     "execution_count": 12,
     "metadata": {},
     "output_type": "execute_result"
    }
   ],
   "source": [
    "grid_search.best_params_ "
   ]
  },
  {
   "cell_type": "code",
   "execution_count": 49,
   "metadata": {},
   "outputs": [],
   "source": [
    "finRF = RandomForestClassifier(class_weight='balanced',n_estimators=300, max_depth=80, min_samples_split=12, min_samples_leaf=2,max_features=6)"
   ]
  },
  {
   "cell_type": "code",
   "execution_count": 50,
   "metadata": {
    "scrolled": true
   },
   "outputs": [
    {
     "data": {
      "text/plain": [
       "RandomForestClassifier(bootstrap=True, class_weight='balanced',\n",
       "            criterion='gini', max_depth=80, max_features=6,\n",
       "            max_leaf_nodes=None, min_impurity_decrease=0.0,\n",
       "            min_impurity_split=None, min_samples_leaf=2,\n",
       "            min_samples_split=12, min_weight_fraction_leaf=0.0,\n",
       "            n_estimators=300, n_jobs=None, oob_score=False,\n",
       "            random_state=None, verbose=0, warm_start=False)"
      ]
     },
     "execution_count": 50,
     "metadata": {},
     "output_type": "execute_result"
    }
   ],
   "source": [
    "finRF.fit(train_full,trainY)"
   ]
  },
  {
   "cell_type": "code",
   "execution_count": null,
   "metadata": {},
   "outputs": [],
   "source": [
    "#Save the model\n",
    "pickle.dump(finRF, open('RFmod20190726_f.sav', 'wb'))"
   ]
  },
  {
   "cell_type": "markdown",
   "metadata": {},
   "source": [
    "This pickled model is what is used in the dashboard application. It is unpickled in app.py and implemented from there!"
   ]
  },
  {
   "cell_type": "markdown",
   "metadata": {},
   "source": [
    "### Model Evaluation"
   ]
  },
  {
   "cell_type": "markdown",
   "metadata": {},
   "source": [
    "Start by looking at the over all weighted accuracy between the training and test sets:"
   ]
  },
  {
   "cell_type": "code",
   "execution_count": 51,
   "metadata": {},
   "outputs": [
    {
     "name": "stdout",
     "output_type": "stream",
     "text": [
      "Train score:  0.8332124728063814  Test score:  0.7684871918801354\n"
     ]
    }
   ],
   "source": [
    "#Evaluate the fit:\n",
    "training_predictions = finRF.predict(train_full)\n",
    "\n",
    "#Use our test set to evaluate the model:\n",
    "test_predictions = finRF.predict(test_full)\n",
    "\n",
    "print('Train score: ',finRF.score(train_full,trainY),' Test score: ',finRF.score(test_full,testY))"
   ]
  },
  {
   "cell_type": "markdown",
   "metadata": {},
   "source": [
    "In this case, however, Recall is more important (we want to ensure that we not characterizing classifying dangerous intersections as safe, ie, a false negative is more dangerous than a false positive for this problem). To evaluate this, we can look at the Classification Report:"
   ]
  },
  {
   "cell_type": "code",
   "execution_count": 52,
   "metadata": {
    "scrolled": true
   },
   "outputs": [
    {
     "name": "stdout",
     "output_type": "stream",
     "text": [
      "              precision    recall  f1-score   support\n",
      "\n",
      "           1       0.87      0.84      0.85      1538\n",
      "           2       0.51      0.57      0.54       492\n",
      "           3       0.47      0.64      0.54        39\n",
      "\n",
      "   micro avg       0.77      0.77      0.77      2069\n",
      "   macro avg       0.62      0.68      0.65      2069\n",
      "weighted avg       0.78      0.77      0.77      2069\n",
      "\n"
     ]
    }
   ],
   "source": [
    "print(classification_report(testY, test_predictions))"
   ]
  },
  {
   "cell_type": "markdown",
   "metadata": {},
   "source": [
    "We can also look at the (Predicted Label Value - Real Label Value) for the test set. Positive numbers mean that we overestimated the danger of the model (false positive), and negative numbers mean that we underestimated the danger (false negative). Notably, while 10% of classifications are false negatives, there are no cases where we considered a Risk Level 3 intersection as a Risk Level 1 (ie, a differential of -2). "
   ]
  },
  {
   "cell_type": "code",
   "execution_count": 53,
   "metadata": {},
   "outputs": [
    {
     "data": {
      "text/plain": [
       " 0    0.768487\n",
       " 1    0.132431\n",
       "-1    0.097632\n",
       " 2    0.001450\n",
       "Name: numacc2, dtype: float64"
      ]
     },
     "execution_count": 53,
     "metadata": {},
     "output_type": "execute_result"
    }
   ],
   "source": [
    "((test_predictions-testY).value_counts())/((test_predictions-testY).value_counts().sum())"
   ]
  },
  {
   "cell_type": "markdown",
   "metadata": {},
   "source": [
    "Finally, we can display the relative feature importances for our model:"
   ]
  },
  {
   "cell_type": "code",
   "execution_count": 78,
   "metadata": {},
   "outputs": [
    {
     "data": {
      "image/png": "[encoded data removed]",
      "text/plain": [
       "<Figure size 640x480 with 1 Axes>"
      ]
     },
     "metadata": {},
     "output_type": "display_data"
    }
   ],
   "source": [
    "cols2 = ['Number of One Ways','Mean Speed of Roads','Max. Difference in Speed of Roads','Number of Roads',\n",
    "        'Number of Uniquely Named Roads','Stop Sign Intersection','Stop Signs Per Road','Traffic Light Intersection',\n",
    "         'Dynamic Traffic Signal','Turn Restrictions','Parking Restrictions at Intersection',\n",
    "         'Warning Signs Present','Yielding Signs Present','Number of 311 Complaints','Zoning']\n",
    "\n",
    "feature_importances = pd.DataFrame(list(finRF.feature_importances_[:14])+[sum(finRF.feature_importances_[14:])], index = cols2, \n",
    "                                   columns=['Relative Importance']).sort_values('Relative Importance', ascending=False)\n",
    "\n",
    "plt.rcdefaults()\n",
    "fig, ax = plt.subplots()\n",
    "\n",
    "y_pos = np.arange(1,16)\n",
    "\n",
    "ax.barh(y_pos, feature_importances['Relative Importance'].values, align='center',color='#4CA64C')\n",
    "ax.set_yticks(y_pos)\n",
    "ax.set_yticklabels(feature_importances.index)\n",
    "ax.invert_yaxis()  # labels read top-to-bottom\n",
    "ax.set_xlabel('Relative Importance')\n",
    "\n",
    "plt.show()"
   ]
  }
 ],
 "metadata": {
  "kernelspec": {
   "display_name": "Python 3",
   "language": "python",
   "name": "python3"
  },
  "language_info": {
   "codemirror_mode": {
    "name": "ipython",
    "version": 3
   },
   "file_extension": ".py",
   "mimetype": "text/x-python",
   "name": "python",
   "nbconvert_exporter": "python",
   "pygments_lexer": "ipython3",
   "version": "3.6.6"
  }
 },
 "nbformat": 4,
 "nbformat_minor": 2
}
